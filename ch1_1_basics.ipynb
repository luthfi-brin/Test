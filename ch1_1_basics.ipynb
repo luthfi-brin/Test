{
 "cells": [
  {
   "cell_type": "code",
   "execution_count": 2,
   "metadata": {},
   "outputs": [],
   "source": [
    "%matplotlib inline\n",
    "from pyvista import set_plot_theme\n",
    "set_plot_theme('document')"
   ]
  },
  {
   "cell_type": "markdown",
   "metadata": {},
   "source": [
    "\n",
    "# 1.1 -Basics of geological modeling with GemPy\n"
   ]
  },
  {
   "cell_type": "markdown",
   "metadata": {},
   "source": [
    "Importing GemPy\n",
    "\n"
   ]
  },
  {
   "cell_type": "code",
   "execution_count": 4,
   "metadata": {},
   "outputs": [
    {
     "ename": "AttributeError",
     "evalue": "'TheanoConfigParser' object has no attribute 'change_flags'",
     "output_type": "error",
     "traceback": [
      "\u001b[1;31m---------------------------------------------------------------------------\u001b[0m",
      "\u001b[1;31mAttributeError\u001b[0m                            Traceback (most recent call last)",
      "Input \u001b[1;32mIn [4]\u001b[0m, in \u001b[0;36m<cell line: 1>\u001b[1;34m()\u001b[0m\n\u001b[1;32m----> 1\u001b[0m \u001b[38;5;28;01mimport\u001b[39;00m \u001b[38;5;21;01mgempy\u001b[39;00m \u001b[38;5;28;01mas\u001b[39;00m \u001b[38;5;21;01mgp\u001b[39;00m\n\u001b[0;32m      3\u001b[0m \u001b[38;5;66;03m# Importing auxiliary libraries\u001b[39;00m\n\u001b[0;32m      4\u001b[0m \u001b[38;5;28;01mimport\u001b[39;00m \u001b[38;5;21;01mnumpy\u001b[39;00m \u001b[38;5;28;01mas\u001b[39;00m \u001b[38;5;21;01mnp\u001b[39;00m\n",
      "File \u001b[1;32m~\\anaconda3\\lib\\site-packages\\gempy\\__init__.py:25\u001b[0m, in \u001b[0;36m<module>\u001b[1;34m\u001b[0m\n\u001b[0;32m     21\u001b[0m SCRIPT_DIR \u001b[38;5;241m=\u001b[39m os\u001b[38;5;241m.\u001b[39mpath\u001b[38;5;241m.\u001b[39mdirname(os\u001b[38;5;241m.\u001b[39mpath\u001b[38;5;241m.\u001b[39mrealpath(os\u001b[38;5;241m.\u001b[39mpath\u001b[38;5;241m.\u001b[39mjoin(os\u001b[38;5;241m.\u001b[39mgetcwd(), os\u001b[38;5;241m.\u001b[39mpath\u001b[38;5;241m.\u001b[39mexpanduser(\u001b[38;5;18m__file__\u001b[39m))))\n\u001b[0;32m     22\u001b[0m sys\u001b[38;5;241m.\u001b[39mpath\u001b[38;5;241m.\u001b[39mappend(os\u001b[38;5;241m.\u001b[39mpath\u001b[38;5;241m.\u001b[39mnormpath(os\u001b[38;5;241m.\u001b[39mpath\u001b[38;5;241m.\u001b[39mjoin(SCRIPT_DIR, PACKAGE_PARENT)))\n\u001b[1;32m---> 25\u001b[0m \u001b[38;5;28;01mfrom\u001b[39;00m \u001b[38;5;21;01mgempy\u001b[39;00m\u001b[38;5;21;01m.\u001b[39;00m\u001b[38;5;21;01mgempy_api\u001b[39;00m \u001b[38;5;28;01mimport\u001b[39;00m \u001b[38;5;241m*\u001b[39m\n\u001b[0;32m     26\u001b[0m \u001b[38;5;28;01mfrom\u001b[39;00m \u001b[38;5;21;01mgempy\u001b[39;00m\u001b[38;5;21;01m.\u001b[39;00m\u001b[38;5;21;01mapi_modules\u001b[39;00m\u001b[38;5;21;01m.\u001b[39;00m\u001b[38;5;21;01mgetters\u001b[39;00m \u001b[38;5;28;01mimport\u001b[39;00m \u001b[38;5;241m*\u001b[39m\n\u001b[0;32m     27\u001b[0m \u001b[38;5;28;01mfrom\u001b[39;00m \u001b[38;5;21;01mgempy\u001b[39;00m\u001b[38;5;21;01m.\u001b[39;00m\u001b[38;5;21;01mapi_modules\u001b[39;00m\u001b[38;5;21;01m.\u001b[39;00m\u001b[38;5;21;01msetters\u001b[39;00m \u001b[38;5;28;01mimport\u001b[39;00m \u001b[38;5;241m*\u001b[39m\n",
      "File \u001b[1;32m~\\anaconda3\\lib\\site-packages\\gempy\\gempy_api.py:17\u001b[0m, in \u001b[0;36m<module>\u001b[1;34m\u001b[0m\n\u001b[0;32m     15\u001b[0m \u001b[38;5;28;01mfrom\u001b[39;00m \u001b[38;5;21;01mtyping\u001b[39;00m \u001b[38;5;28;01mimport\u001b[39;00m Union\n\u001b[0;32m     16\u001b[0m \u001b[38;5;28;01mimport\u001b[39;00m \u001b[38;5;21;01mwarnings\u001b[39;00m\n\u001b[1;32m---> 17\u001b[0m \u001b[38;5;28;01mfrom\u001b[39;00m \u001b[38;5;21;01mgempy\u001b[39;00m\u001b[38;5;21;01m.\u001b[39;00m\u001b[38;5;21;01mcore\u001b[39;00m\u001b[38;5;21;01m.\u001b[39;00m\u001b[38;5;21;01mmodel\u001b[39;00m \u001b[38;5;28;01mimport\u001b[39;00m Project\n\u001b[0;32m     18\u001b[0m \u001b[38;5;28;01mfrom\u001b[39;00m \u001b[38;5;21;01mgempy\u001b[39;00m\u001b[38;5;21;01m.\u001b[39;00m\u001b[38;5;21;01mcore\u001b[39;00m\u001b[38;5;21;01m.\u001b[39;00m\u001b[38;5;21;01msolution\u001b[39;00m \u001b[38;5;28;01mimport\u001b[39;00m Solution\n\u001b[0;32m     19\u001b[0m \u001b[38;5;28;01mfrom\u001b[39;00m \u001b[38;5;21;01mgempy\u001b[39;00m\u001b[38;5;21;01m.\u001b[39;00m\u001b[38;5;21;01mutils\u001b[39;00m\u001b[38;5;21;01m.\u001b[39;00m\u001b[38;5;21;01mmeta\u001b[39;00m \u001b[38;5;28;01mimport\u001b[39;00m _setdoc, _setdoc_pro\n",
      "File \u001b[1;32m~\\anaconda3\\lib\\site-packages\\gempy\\core\\model.py:17\u001b[0m, in \u001b[0;36m<module>\u001b[1;34m\u001b[0m\n\u001b[0;32m     14\u001b[0m \u001b[38;5;28;01mfrom\u001b[39;00m \u001b[38;5;21;01mgempy\u001b[39;00m\u001b[38;5;21;01m.\u001b[39;00m\u001b[38;5;21;01mcore\u001b[39;00m\u001b[38;5;21;01m.\u001b[39;00m\u001b[38;5;21;01mdata\u001b[39;00m \u001b[38;5;28;01mimport\u001b[39;00m AdditionalData, MetaData, Options, Structure, \\\n\u001b[0;32m     15\u001b[0m     KrigingParameters\n\u001b[0;32m     16\u001b[0m \u001b[38;5;28;01mfrom\u001b[39;00m \u001b[38;5;21;01mgempy\u001b[39;00m\u001b[38;5;21;01m.\u001b[39;00m\u001b[38;5;21;01mcore\u001b[39;00m\u001b[38;5;21;01m.\u001b[39;00m\u001b[38;5;21;01msolution\u001b[39;00m \u001b[38;5;28;01mimport\u001b[39;00m Solution\n\u001b[1;32m---> 17\u001b[0m \u001b[38;5;28;01mfrom\u001b[39;00m \u001b[38;5;21;01mgempy\u001b[39;00m\u001b[38;5;21;01m.\u001b[39;00m\u001b[38;5;21;01mcore\u001b[39;00m\u001b[38;5;21;01m.\u001b[39;00m\u001b[38;5;21;01minterpolator\u001b[39;00m \u001b[38;5;28;01mimport\u001b[39;00m InterpolatorModel, InterpolatorGravity\n\u001b[0;32m     18\u001b[0m \u001b[38;5;28;01mfrom\u001b[39;00m \u001b[38;5;21;01mgempy\u001b[39;00m\u001b[38;5;21;01m.\u001b[39;00m\u001b[38;5;21;01mutils\u001b[39;00m\u001b[38;5;21;01m.\u001b[39;00m\u001b[38;5;21;01mmeta\u001b[39;00m \u001b[38;5;28;01mimport\u001b[39;00m _setdoc, _setdoc_pro\n\u001b[0;32m     19\u001b[0m \u001b[38;5;28;01mimport\u001b[39;00m \u001b[38;5;21;01mgempy\u001b[39;00m\u001b[38;5;21;01m.\u001b[39;00m\u001b[38;5;21;01mutils\u001b[39;00m\u001b[38;5;21;01m.\u001b[39;00m\u001b[38;5;21;01mdocstring\u001b[39;00m \u001b[38;5;28;01mas\u001b[39;00m \u001b[38;5;21;01mds\u001b[39;00m\n",
      "File \u001b[1;32m~\\anaconda3\\lib\\site-packages\\gempy\\core\\interpolator.py:10\u001b[0m, in \u001b[0;36m<module>\u001b[1;34m\u001b[0m\n\u001b[0;32m      7\u001b[0m \u001b[38;5;28;01mimport\u001b[39;00m \u001b[38;5;21;01mgempy\u001b[39;00m\u001b[38;5;21;01m.\u001b[39;00m\u001b[38;5;21;01mutils\u001b[39;00m\u001b[38;5;21;01m.\u001b[39;00m\u001b[38;5;21;01mdocstring\u001b[39;00m \u001b[38;5;28;01mas\u001b[39;00m \u001b[38;5;21;01mds\u001b[39;00m\n\u001b[0;32m      9\u001b[0m \u001b[38;5;28;01mimport\u001b[39;00m \u001b[38;5;21;01mnumpy\u001b[39;00m \u001b[38;5;28;01mas\u001b[39;00m \u001b[38;5;21;01mnp\u001b[39;00m\n\u001b[1;32m---> 10\u001b[0m \u001b[38;5;28;01mimport\u001b[39;00m \u001b[38;5;21;01mtheano\u001b[39;00m\n\u001b[0;32m     13\u001b[0m \u001b[38;5;129m@_setdoc_pro\u001b[39m(\n\u001b[0;32m     14\u001b[0m     [SurfacePoints\u001b[38;5;241m.\u001b[39m\u001b[38;5;18m__doc__\u001b[39m, Orientations\u001b[38;5;241m.\u001b[39m\u001b[38;5;18m__doc__\u001b[39m, Grid\u001b[38;5;241m.\u001b[39m\u001b[38;5;18m__doc__\u001b[39m, Surfaces\u001b[38;5;241m.\u001b[39m\u001b[38;5;18m__doc__\u001b[39m, Series\u001b[38;5;241m.\u001b[39m\u001b[38;5;18m__doc__\u001b[39m,\n\u001b[0;32m     15\u001b[0m      Faults\u001b[38;5;241m.\u001b[39m\u001b[38;5;18m__doc__\u001b[39m, AdditionalData\u001b[38;5;241m.\u001b[39m\u001b[38;5;18m__doc__\u001b[39m])\n\u001b[0;32m     16\u001b[0m \u001b[38;5;28;01mclass\u001b[39;00m \u001b[38;5;21;01mInterpolator\u001b[39;00m(\u001b[38;5;28mobject\u001b[39m):\n\u001b[0;32m     17\u001b[0m     \u001b[38;5;124;03m\"\"\"Class that act as:\u001b[39;00m\n\u001b[0;32m     18\u001b[0m \u001b[38;5;124;03m     1) linker between the data objects and the theano graph\u001b[39;00m\n\u001b[0;32m     19\u001b[0m \u001b[38;5;124;03m     2) container of theano graphs + shared variables\u001b[39;00m\n\u001b[1;32m   (...)\u001b[0m\n\u001b[0;32m     43\u001b[0m \n\u001b[0;32m     44\u001b[0m \u001b[38;5;124;03m    \"\"\"\u001b[39;00m\n",
      "File \u001b[1;32m~\\anaconda3\\lib\\site-packages\\theano\\__init__.py:71\u001b[0m, in \u001b[0;36m<module>\u001b[1;34m\u001b[0m\n\u001b[0;32m     67\u001b[0m # Version information.\n\u001b[0;32m     68\u001b[0m from theano.version import version as __version__\n\u001b[0;32m     70\u001b[0m # Raise a meaning full warning/error if the theano directory is in the\n\u001b[1;32m---> 71\u001b[0m # Python path.\n\u001b[0;32m     72\u001b[0m from six import PY3\n\u001b[0;32m     73\u001b[0m rpath = os.path.realpath(__path__[0])\n",
      "\u001b[1;31mAttributeError\u001b[0m: 'TheanoConfigParser' object has no attribute 'change_flags'"
     ]
    }
   ],
   "source": [
    "import gempy as gp\n",
    "\n",
    "# Importing auxiliary libraries\n",
    "import numpy as np\n",
    "import pandas as pd\n",
    "import matplotlib.pyplot as plt\n",
    "import os\n",
    "\n",
    "# Setting options\n",
    "np.random.seed(1515)\n",
    "pd.set_option('precision', 2)"
   ]
  },
  {
   "cell_type": "markdown",
   "metadata": {},
   "source": [
    "## Importing and creating a set of input data\n",
    "The data used for the construction of a model in GemPy is stored in\n",
    "Python objects. The main data classes are:\n",
    "\n",
    "::\n",
    "\n",
    "    -  Surface_points\n",
    "    -  Orientations\n",
    "    -  Grid\n",
    "    -  Surfaces\n",
    "    -  Series\n",
    "    -  Additional data\n",
    "    -  Faults\n",
    "\n",
    "We will see each of this class in further detail in the future.\n",
    "\n",
    "Most of data can also be generated from raw data that comes in the form\n",
    "of CSV-files (CSV = comma-separated values). Such files might be\n",
    "attained by exporting model data from a different program such as\n",
    "GeoModeller or by simply creating it in spreadsheet software such as\n",
    "Microsoft Excel or LibreOffice Calc.\n",
    "\n",
    "In this tutorial, all input data is created by importing such CSV-files.\n",
    "These exemplary files can be found in the ``input_data`` folder in the\n",
    "root folder of GemPy. The data comprises $x$-, $y$- and\n",
    "$z$-positional values for all surface points and orientation\n",
    "measurements. For the latter, poles, azimuth and polarity are\n",
    "additionally included. Surface points are furthermore assigned a\n",
    "formation. This might be a lithological unit such as \"Sandstone\" or a\n",
    "structural feature such as \"Main Fault\". It is decisive to remember\n",
    "that, in GemPy, interface position points mark the **bottom** of a\n",
    "layer. If such points are needed to resemble a top of a formation (e.g.\n",
    "when modeling an intrusion), this can be achieved by defining a\n",
    "respectively inverted orientation measurement.\n",
    "\n",
    "As we generate our ``Data`` from CSV-files, we also have to define our\n",
    "model's real extent in $x$, $y$ and $z$, as well as\n",
    "declare a desired resolution for each axis. This resolution will in turn\n",
    "determine the number of voxels used during modeling. Here, we rely on a\n",
    "medium resolution of 50x50x50, amounting to 125,000 voxels. The model\n",
    "extent should be chosen in a way that it contains all relevant data in a\n",
    "representative space. As our model voxels are not cubes, but prisms, the\n",
    "resolution can take a different shape than the extent. We don't\n",
    "recommend going much higher than 100 cells in every direction (1,000,000\n",
    "voxels), as higher resolutions will become increasingly expensive to\n",
    "compute.\n",
    "\n",
    "\n"
   ]
  },
  {
   "cell_type": "code",
   "execution_count": null,
   "metadata": {},
   "outputs": [],
   "source": [
    "geo_model = gp.create_model('Tutorial_ch1_1_Basics')"
   ]
  },
  {
   "cell_type": "code",
   "execution_count": null,
   "metadata": {},
   "outputs": [],
   "source": [
    "data_path = 'https://raw.githubusercontent.com/cgre-aachen/gempy_data/master/'\n",
    "# Importing the data from CSV-files and setting extent and resolution\n",
    "gp.init_data(geo_model, [0, 2000., 0, 2000., 0, 750.], [50, 50, 50],\n",
    "             path_o=data_path + \"/data/input_data/getting_started/\"\n",
    "                                \"simple_fault_model_orientations.csv\",\n",
    "             path_i=data_path + \"/data/input_data/getting_started/\"\n",
    "                                \"simple_fault_model_points.csv\",\n",
    "             default_values=True)"
   ]
  },
  {
   "cell_type": "code",
   "execution_count": null,
   "metadata": {},
   "outputs": [],
   "source": [
    "geo_model.surfaces"
   ]
  },
  {
   "cell_type": "markdown",
   "metadata": {},
   "source": [
    "The input data can then be listed using the command ``get_data``. Note\n",
    "that the order of formations and respective allocation to series is\n",
    "still completely arbitrary. We will fix this in the following.\n",
    "\n",
    "\n"
   ]
  },
  {
   "cell_type": "code",
   "execution_count": null,
   "metadata": {},
   "outputs": [],
   "source": [
    "gp.get_data(geo_model, 'surface_points').head()"
   ]
  },
  {
   "cell_type": "code",
   "execution_count": null,
   "metadata": {},
   "outputs": [],
   "source": [
    "gp.get_data(geo_model, 'orientations').head()"
   ]
  },
  {
   "cell_type": "markdown",
   "metadata": {},
   "source": [
    "### Declaring the sequential order of geological formations\n",
    "\n",
    "-  TODO update this section\n",
    "\n",
    "We want our geological units to appear in the correct order relative to\n",
    "age. Such order might for example be given by a depositional sequence of\n",
    "stratigraphy, unconformities due to erosion or other lithological\n",
    "genesis events such as igneous intrusions. A similar age-related order\n",
    "is to be declared for the faults in our model. In GemPy, the function\n",
    "``set_series`` is used to assign formations to different sequential\n",
    "series via declaration in a Python dictionary.\n",
    "\n",
    "Defining the correct order of series is vital to the construction of the\n",
    "model! If you are using Python >3.6, the age-related order will already\n",
    "be defined by the order of key entries, i.e. the first entry is the\n",
    "youngest series, the last one the oldest. For older versions of Python,\n",
    "you will have to specify the correct order as a separate list attribute\n",
    "\"``order_series``\\ \" (see cell below).\n",
    "\n",
    "You can assign several surfaces to one series. The order of the units\n",
    "within such as series is only relevant for the color code, thus we\n",
    "recommend to be consistent. You can define this order via another\n",
    "attribute \"``order_formations``/ \" or by using the specific command\n",
    "``set_order_formations``. (If the order of the pile differs from the\n",
    "final result the color of the interfaces and input data will be\n",
    "different.)\n",
    "\n",
    "Every fault is treated as an independent series and have to be at set at\n",
    "the **top of the pile**. The relative order between the distinct faults\n",
    "defines the tectonic relation between them (first entry is the\n",
    "youngest).\n",
    "\n",
    "In a model with simple sequential stratigraphy, all layer formations can\n",
    "be assigned to one single series without a problem. All unit boundaries\n",
    "and their order would then be given by interface points. However, to\n",
    "model more complex lithostratigraphical relations and interactions, the\n",
    "definition of separate series becomes important. For example, you would\n",
    "need to declare a \"newer\" series to model an unconformity or an\n",
    "intrusion that disturbs older stratigraphy.\n",
    "\n",
    "By default we create a simple sequence inferred by the data:\n",
    "\n",
    "\n"
   ]
  },
  {
   "cell_type": "markdown",
   "metadata": {},
   "source": [
    "Our example model comprises four main layers (plus an underlying\n",
    "basement that is automatically generated by GemPy) and one main normal\n",
    "fault displacing those layers. Assuming a simple stratigraphy where each\n",
    "younger unit was deposited onto the underlying older one, we can assign\n",
    "these layer formations to one series called \"Strat\\_Series\". For the\n",
    "fault, we declare a respective \"Fault\\_Series\" as the first key entry in\n",
    "the ``set_series`` dictionary. We could give any other names to these\n",
    "series, the formations however have to be referred to as named in the\n",
    "input data.\n",
    "\n",
    "\n"
   ]
  },
  {
   "cell_type": "code",
   "execution_count": null,
   "metadata": {},
   "outputs": [],
   "source": [
    "geo_model.surfaces"
   ]
  },
  {
   "cell_type": "code",
   "execution_count": null,
   "metadata": {},
   "outputs": [],
   "source": [
    "gp.map_stack_to_surfaces(geo_model,\n",
    "                         {\"Fault_Series\": 'Main_Fault',\n",
    "                          \"Strat_Series\": ('Sandstone_2', 'Siltstone',\n",
    "                                           'Shale', 'Sandstone_1', 'basement')},\n",
    "                         remove_unused_series=True)"
   ]
  },
  {
   "cell_type": "code",
   "execution_count": null,
   "metadata": {},
   "outputs": [],
   "source": [
    "geo_model.surfaces"
   ]
  },
  {
   "cell_type": "code",
   "execution_count": null,
   "metadata": {},
   "outputs": [],
   "source": [
    "geo_model.stack"
   ]
  },
  {
   "cell_type": "code",
   "execution_count": null,
   "metadata": {},
   "outputs": [],
   "source": [
    "geo_model.set_is_fault(['Fault_Series'])"
   ]
  },
  {
   "cell_type": "code",
   "execution_count": null,
   "metadata": {},
   "outputs": [],
   "source": [
    "geo_model.faults.faults_relations_df"
   ]
  },
  {
   "cell_type": "code",
   "execution_count": null,
   "metadata": {},
   "outputs": [],
   "source": [
    "geo_model.faults"
   ]
  },
  {
   "cell_type": "code",
   "execution_count": null,
   "metadata": {},
   "outputs": [],
   "source": [
    "geo_model.faults.faults_relations_df"
   ]
  },
  {
   "cell_type": "markdown",
   "metadata": {},
   "source": [
    "### Returning information from our input data\n",
    "\n",
    "Our model input data, here named \"*geo\\_model*\", contains all the\n",
    "information that is essential for the construction of our model. You can\n",
    "access different types of information by using ``gp.get_data`` or simply\n",
    "by accessiong the atrribues.\n",
    "\n",
    "We can, for example, return the coordinates of our modeling grid via:\n",
    "\n",
    "\n"
   ]
  },
  {
   "cell_type": "code",
   "execution_count": null,
   "metadata": {},
   "outputs": [],
   "source": [
    "geo_model.grid"
   ]
  },
  {
   "cell_type": "markdown",
   "metadata": {},
   "source": [
    "As mentioned before, GemPy's core algorithm is based on interpolation of\n",
    "two types of data: - surface\\_points and - orientation measurements\n",
    "\n",
    "(if you want to know more on how this this interpolation algorithm\n",
    "works, checkout our paper: https://www.geosci-model-dev.net/12/1/2019/gmd-12-1-2019.pdf).\n",
    "\n",
    "We introduced the function ``get\\_data`` above. You can also specify which\n",
    "kind of data you want to call, by declaring the string attribute\n",
    "\"*dtype*\" to be either ``'surface_points'`` (interfaces) or ``'orientations'``\\ .\n",
    "\n",
    "### Interfaces Dataframe:\n",
    "\n",
    "\n"
   ]
  },
  {
   "cell_type": "code",
   "execution_count": null,
   "metadata": {},
   "outputs": [],
   "source": [
    "gp.get_data(geo_model, 'surface_points').head()"
   ]
  },
  {
   "cell_type": "markdown",
   "metadata": {},
   "source": [
    "### Orientations Dataframe:\n",
    "\n",
    "\n"
   ]
  },
  {
   "cell_type": "code",
   "execution_count": null,
   "metadata": {},
   "outputs": [],
   "source": [
    "gp.get_data(geo_model, 'orientations')"
   ]
  },
  {
   "cell_type": "markdown",
   "metadata": {},
   "source": [
    "Notice that now all **surfaces** have been assigned to a **series** and\n",
    "are displayed in the correct order (from young to old).\n",
    "\n",
    "### Visualizing input data\n",
    "\n",
    "We can also visualize our input data. This might for example be useful\n",
    "to check if all points and measurements are defined the way we want them\n",
    "to. Using the function ``plot_data``\\ , we attain a 2D projection of our\n",
    "data points onto a plane of chosen *direction* (we can choose this\n",
    "attribute to be either $x$, $y$ or $z$).\n",
    "\n",
    "\n"
   ]
  },
  {
   "cell_type": "code",
   "execution_count": null,
   "metadata": {},
   "outputs": [],
   "source": [
    "plot = gp.plot_2d(geo_model, show_lith=False, show_boundaries=False)\n",
    "plt.show()"
   ]
  },
  {
   "cell_type": "markdown",
   "metadata": {},
   "source": [
    "Using ``plot_data_3D``\\ , we can also visualize this data in 3D. Note that\n",
    "direct 3D visualization in GemPy requires `the Visualization\n",
    "Toolkit <https://www.vtk.org/>`__ (VTK) to be installed.\n",
    "\n",
    "All 3D plots in GemPy are interactive. This means that we can drag\n",
    "and drop any data point and measurement. The perpendicular axis views in\n",
    "VTK are particularly useful to move points solely on a desired 2D plane.\n",
    "Any changes will then be stored permanently in the \"InputData\"\n",
    "dataframe. If we want to reset our data points, we will then need to\n",
    "reload our original input data.\n",
    "\n",
    "Executing the cell below will open a new window with a 3D interactive\n",
    "plot of our data.\n",
    "\n"
   ]
  },
  {
   "cell_type": "code",
   "execution_count": null,
   "metadata": {},
   "outputs": [],
   "source": [
    "gpv = gp.plot_3d(geo_model, image=False, plotter_type='basic')"
   ]
  },
  {
   "cell_type": "markdown",
   "metadata": {},
   "source": [
    "### Model generation\n",
    "\n",
    "Once we have made sure that we have defined all our primary information\n",
    "as desired in our object ``DataManagement.InputData`` (named\n",
    "``geo_data`` in these tutorials), we can continue with the next step\n",
    "towards creating our geological model: preparing the input data for\n",
    "interpolation.\n",
    "\n",
    "This is done by generating an ``InterpolatorData`` object (named\n",
    "``interp_data`` in these tutorials) from our ``InputData`` object via\n",
    "the following function:\n",
    "\n",
    "\n"
   ]
  },
  {
   "cell_type": "code",
   "execution_count": null,
   "metadata": {},
   "outputs": [],
   "source": [
    "gp.set_interpolator(geo_model,\n",
    "                    compile_theano=True,\n",
    "                    theano_optimizer='fast_compile',\n",
    "                    )"
   ]
  },
  {
   "cell_type": "markdown",
   "metadata": {},
   "source": [
    "This function rescales the extent and coordinates of the original data\n",
    "(and store it in the attribute ``geo_data_res`` which behaves as a usual\n",
    "``InputData`` object) and adds mathematical parameters that are needed\n",
    "for conducting the interpolation. The computation of this step may take\n",
    "a while, as it also compiles a theano function which is required for the\n",
    "model computation. However, should this not be needed, we can skip it by\n",
    "declaring ``compile_theano = False`` in the function.\n",
    "\n",
    "Furthermore, this preparation process includes an assignment of numbers\n",
    "to each formation. Note that GemPy's always creates a default basement\n",
    "formation as the last formation number. Afterwards, numbers are\n",
    "allocated from youngest to oldest as defined by the sequence of series\n",
    "and formations. On the property ``formations`` on our interpolation\n",
    "data, we can find out which number has been assigned to which formation:\n",
    "\n",
    "\n"
   ]
  },
  {
   "cell_type": "markdown",
   "metadata": {},
   "source": [
    "The parameters used for the interpolation can be returned using the\n",
    "function ``get_kriging_parameters``. These are generated automatically\n",
    "from the original data, but can be changed if needed. However, users\n",
    "should be careful doing so, if they do not fully understand their\n",
    "significance.\n",
    "\n",
    "\n"
   ]
  },
  {
   "cell_type": "code",
   "execution_count": null,
   "metadata": {},
   "outputs": [],
   "source": [
    "gp.get_data(geo_model, 'kriging')"
   ]
  },
  {
   "cell_type": "markdown",
   "metadata": {},
   "source": [
    "At this point, we have all we need to compute our full model via\n",
    "``compute_model``. By default, this will return two separate solutions\n",
    "in the form of arrays. The first gives information on the lithological\n",
    "formations, the second on the fault network in the model. These arrays\n",
    "consist of two subarrays as entries each:\n",
    "\n",
    "1. Lithology block model solution:\n",
    "\n",
    "   -  Entry [0]: This array shows what kind of lithological formation is\n",
    "      found in each voxel, as indicated by a respective\n",
    "      formation\\_number.\n",
    "   -  Entry [1]: Potential field array that represents the orientation\n",
    "      of lithological units and layers in the block model.\n",
    "\n",
    "2. Fault network block model solution:\n",
    "\n",
    "   -  Entry [0]: Array in which all fault-separated areas of the model\n",
    "      are represented by a distinct number contained in each voxel.\n",
    "   -  Entry [1]: Potential field array related to the fault network in\n",
    "      the block model.\n",
    "\n",
    "Below, we illustrate these different model solutions and how they can be\n",
    "used.\n",
    "\n",
    "\n"
   ]
  },
  {
   "cell_type": "code",
   "execution_count": null,
   "metadata": {},
   "outputs": [],
   "source": [
    "sol = gp.compute_model(geo_model)"
   ]
  },
  {
   "cell_type": "code",
   "execution_count": null,
   "metadata": {},
   "outputs": [],
   "source": [
    "sol"
   ]
  },
  {
   "cell_type": "code",
   "execution_count": null,
   "metadata": {},
   "outputs": [],
   "source": [
    "geo_model.solutions"
   ]
  },
  {
   "cell_type": "markdown",
   "metadata": {},
   "source": [
    "### Direct model visualization in GemPy\n",
    "\n",
    "Model solutions can be easily visualized in 2D sections in GemPy\n",
    "directly. Let's take a look at our lithology block:\n",
    "\n",
    "\n"
   ]
  },
  {
   "cell_type": "code",
   "execution_count": null,
   "metadata": {},
   "outputs": [],
   "source": [
    "gp.plot_2d(geo_model, show_data=True)\n",
    "plt.show()"
   ]
  },
  {
   "cell_type": "markdown",
   "metadata": {},
   "source": [
    "With ``cell_number=25`` and remembering that we defined our resolution\n",
    "to be 50 cells in each direction, we have chosen a section going through\n",
    "the middle of our block. We have moved 25 cells in ``direction='y'``,\n",
    "the plot thus depicts a plane parallel to the $x$- and\n",
    "$y$-axes. Setting ``plot_data=True``, we could plot original data\n",
    "together with the results. Changing the values for ``cell_number`` and\n",
    "``direction``, we can move through our 3D block model and explore it by\n",
    "looking at different 2D planes.\n",
    "\n",
    "We can do the same with out lithological scalar-field solution:\n",
    "\n",
    "\n"
   ]
  },
  {
   "cell_type": "code",
   "execution_count": null,
   "metadata": {},
   "outputs": [],
   "source": [
    "gp.plot_2d(geo_model, show_data=False, show_scalar=True, show_lith=False)\n",
    "plt.show()"
   ]
  },
  {
   "cell_type": "code",
   "execution_count": null,
   "metadata": {},
   "outputs": [],
   "source": [
    "gp.plot_2d(geo_model, series_n=1, show_data=False, show_scalar=True, show_lith=False)\n",
    "plt.show()"
   ]
  },
  {
   "cell_type": "markdown",
   "metadata": {},
   "source": [
    "This illustrates well the fold-related deformation of the stratigraphy,\n",
    "as well as the way the layers are influenced by the fault.\n",
    "\n",
    "The fault network modeling solutions can be visualized in the same way:\n",
    "\n",
    "\n"
   ]
  },
  {
   "cell_type": "code",
   "execution_count": null,
   "metadata": {},
   "outputs": [],
   "source": [
    "geo_model.solutions.scalar_field_at_surface_points"
   ]
  },
  {
   "cell_type": "code",
   "execution_count": null,
   "metadata": {},
   "outputs": [],
   "source": [
    "gp.plot_2d(geo_model, show_block=True, show_lith=False)\n",
    "plt.show()"
   ]
  },
  {
   "cell_type": "code",
   "execution_count": null,
   "metadata": {},
   "outputs": [],
   "source": [
    "gp.plot_2d(geo_model, series_n=1, show_block=True, show_lith=False)\n",
    "plt.show()"
   ]
  },
  {
   "cell_type": "markdown",
   "metadata": {},
   "source": [
    "### Marching cubes and vtk visualization\n",
    "\n",
    "In addition to 2D sections we can extract surfaces to visualize in 3D\n",
    "renderers. Surfaces can be visualized as 3D triangle complexes in VTK\n",
    "(see function plot\\_surfaces\\_3D below). To create these triangles, we\n",
    "need to extract respective vertices and simplices from the potential\n",
    "fields of lithologies and faults. This process is automatized in GemPy\n",
    "with the function ``get_surface``\\ .\n",
    "\n",
    "\n"
   ]
  },
  {
   "cell_type": "code",
   "execution_count": null,
   "metadata": {},
   "outputs": [],
   "source": [
    "ver, sim = gp.get_surfaces(geo_model)\n",
    "gpv = gp.plot_3d(geo_model, image=False, plotter_type='basic')"
   ]
  },
  {
   "cell_type": "markdown",
   "metadata": {},
   "source": [
    "Using the rescaled interpolation data, we can also run our 3D VTK\n",
    "visualization in an interactive mode which allows us to alter and update\n",
    "our model in real time. Similarly to the interactive 3D visualization of\n",
    "our input data, the changes are permanently saved (in the\n",
    "``InterpolationInput.dataframe`` object). Additionally, the resulting changes\n",
    "in the geological models are re-computed in real time.\n",
    "\n",
    "\n"
   ]
  },
  {
   "cell_type": "markdown",
   "metadata": {},
   "source": [
    "### Adding topography\n",
    "\n"
   ]
  },
  {
   "cell_type": "code",
   "execution_count": null,
   "metadata": {},
   "outputs": [],
   "source": [
    "geo_model.set_topography(d_z=(350, 750))"
   ]
  },
  {
   "cell_type": "code",
   "execution_count": null,
   "metadata": {},
   "outputs": [],
   "source": [
    "gp.compute_model(geo_model)\n",
    "gp.plot_2d(geo_model, show_topography=True)\n",
    "plt.show()\n",
    "\n",
    "\n",
    "# sphinx_gallery_thumbnail_number = 9\n",
    "gpv = gp.plot_3d(geo_model, plotter_type='basic', show_topography=True, show_surfaces=True,\n",
    "                 show_lith=True,\n",
    "                 image=False)"
   ]
  },
  {
   "cell_type": "markdown",
   "metadata": {},
   "source": [
    "### Compute at a given location\n",
    "\n",
    "This is done by modifying the grid to a custom grid and recomputing.\n",
    "Notice that the results are given as *grid + surfaces\\_points\\_ref +\n",
    "surface\\_points\\_rest locations*\n",
    "\n",
    "\n"
   ]
  },
  {
   "cell_type": "code",
   "execution_count": null,
   "metadata": {},
   "outputs": [],
   "source": [
    "x_i = np.array([[3, 5, 6]])\n",
    "sol = gp.compute_model(geo_model, at=x_i)"
   ]
  },
  {
   "cell_type": "markdown",
   "metadata": {},
   "source": [
    "Therefore if we just want the value at **x\\_i**:\n",
    "\n"
   ]
  },
  {
   "cell_type": "code",
   "execution_count": null,
   "metadata": {},
   "outputs": [],
   "source": [
    "sol.custom"
   ]
  },
  {
   "cell_type": "markdown",
   "metadata": {},
   "source": [
    "This return the id, and the scalar field values for each series\n",
    "\n"
   ]
  },
  {
   "cell_type": "markdown",
   "metadata": {},
   "source": [
    "### Save the model\n",
    "\n",
    "\n"
   ]
  },
  {
   "cell_type": "markdown",
   "metadata": {},
   "source": [
    "GemPy uses Python [pickle] for fast storing temporary objects\n",
    "(https://docs.python.org/3/library/pickle.html). However, module version\n",
    "consistency is required. For loading a pickle into GemPy, you have to\n",
    "make sure that you are using the same version of pickle and dependent\n",
    "modules (e.g.: ``Pandas``, ``NumPy``) as were used when the data was\n",
    "originally stored.\n",
    "\n",
    "For long term-safer storage we can export the ``pandas.DataFrames`` to\n",
    "csv by using:\n",
    "\n",
    "\n"
   ]
  },
  {
   "cell_type": "code",
   "execution_count": null,
   "metadata": {},
   "outputs": [],
   "source": [
    "gp.save_model(geo_model)"
   ]
  }
 ],
 "metadata": {
  "kernelspec": {
   "display_name": "Python 3 (ipykernel)",
   "language": "python",
   "name": "python3"
  },
  "language_info": {
   "codemirror_mode": {
    "name": "ipython",
    "version": 3
   },
   "file_extension": ".py",
   "mimetype": "text/x-python",
   "name": "python",
   "nbconvert_exporter": "python",
   "pygments_lexer": "ipython3",
   "version": "3.9.12"
  }
 },
 "nbformat": 4,
 "nbformat_minor": 1
}
